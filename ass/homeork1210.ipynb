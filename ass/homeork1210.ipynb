{
 "cells": [
  {
   "cell_type": "code",
   "execution_count": 36,
   "metadata": {},
   "outputs": [],
   "source": [
    "def cubstreak (file):\n",
    "    s=0\n",
    "    tstreak=0\n",
    "    #print ('gobbler')\n",
    "    with open (file) as k:\n",
    "        games=k.readlines()\n",
    "        for line in games:\n",
    "           # print ('loop')\n",
    "            fields=line.split(\",\")\n",
    "            a=fields[9]\n",
    "            h=fields[10]\n",
    "            if 'CHN' in line:\n",
    "     #           print (\"in\")\n",
    "                if fields[3].strip('\"')=='CHN':\n",
    "                    if a > h :\n",
    "                        s+=1\n",
    "                        if s>tstreak:\n",
    "                            tstreak=s\n",
    "                    else:\n",
    "                        s=0\n",
    "\n",
    "                if fields[6].strip('\"')=='CHN':\n",
    "                    if h > a:\n",
    "                        s+=1\n",
    "                        if s>tstreak:\n",
    "                            tstreak=s\n",
    "                    else:\n",
    "                        s=0\n",
    "            else:\n",
    "                pass\n",
    "    return tstreak"
   ]
  },
  {
   "cell_type": "code",
   "execution_count": 38,
   "metadata": {},
   "outputs": [],
   "source": [
    "ptui = cubstreak('C:/TMP/gl2018.txt')"
   ]
  },
  {
   "cell_type": "code",
   "execution_count": 10,
   "metadata": {},
   "outputs": [],
   "source": [
    "def cubstreak (file):\n",
    "    s=0\n",
    "    u=list()\n",
    "    with open (file) as k:\n",
    "        for line in k:\n",
    "            fields=line.split(\",\")\n",
    "            u.append(fields[3])\n",
    "            u.append(fields[6])\n",
    "        games=k.readlines()\n",
    "        for team in u:\n",
    "            for line in k:\n",
    "                print (fields[6])\n",
    "                fields=line.split(\",\")\n",
    "                if team in line:\n",
    "                    if fields[3]==team:\n",
    "                        if fields[3] > fields [6]:\n",
    "                            s+=1\n",
    "                            print (s)\n",
    "                        else:\n",
    "                            s=0\n",
    "\n",
    "                    if (fields[6])==team:\n",
    "                        if fields (6) > fields (3):\n",
    "                            s+=1\n",
    "                            print (s)\n",
    "                        else:\n",
    "                            s=0\n",
    "                else:\n",
    "                    pass"
   ]
  },
  {
   "cell_type": "code",
   "execution_count": 40,
   "metadata": {},
   "outputs": [
    {
     "data": {
      "text/plain": [
       "9"
      ]
     },
     "execution_count": 40,
     "metadata": {},
     "output_type": "execute_result"
    }
   ],
   "source": [
    "ptui"
   ]
  },
  {
   "cell_type": "code",
   "execution_count": null,
   "metadata": {},
   "outputs": [],
   "source": [
    "teams = teams_in_file(the_file)\n",
    "for t in teams :\n",
    "    strk= get_streak(the_file t) \n",
    "    if strk > longest_yet :\n",
    "        longest_yet = strk\n",
    "    "
   ]
  }
 ],
 "metadata": {
  "kernelspec": {
   "display_name": "Python 3",
   "language": "python",
   "name": "python3"
  },
  "language_info": {
   "codemirror_mode": {
    "name": "ipython",
    "version": 3
   },
   "file_extension": ".py",
   "mimetype": "text/x-python",
   "name": "python",
   "nbconvert_exporter": "python",
   "pygments_lexer": "ipython3",
   "version": "3.6.5"
  }
 },
 "nbformat": 4,
 "nbformat_minor": 2
}
