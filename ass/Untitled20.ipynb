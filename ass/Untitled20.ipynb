{
 "cells": [
  {
   "cell_type": "code",
   "execution_count": 55,
   "metadata": {},
   "outputs": [],
   "source": [
    "def cubstreak (file):\n",
    "    s=0\n",
    "    tstreak=0\n",
    "    u=list()\n",
    "    with open (file) as k:\n",
    "        for line in k:\n",
    "            fields=line.split(\",\")\n",
    "            if fields[3] not in u:\n",
    "                u.append(fields[3])\n",
    "            if fields [6] not in u:\n",
    "                u.append(fields[6])\n",
    "            \n",
    "        games=k.readlines()\n",
    "        print (games)\n",
    "        print (u)\n",
    "        print (k)\n",
    "        for team in u:\n",
    "            print ('GOBBLER')\n",
    "            for line in games:\n",
    "                print (fields[6])\n",
    "                print ('FURKEY')\n",
    "                fields=line.split(\",\")\n",
    "                if team in line:\n",
    "                    if fields[3]==team:\n",
    "                        if fields[9] > fields [10]:\n",
    "                            s+=1\n",
    "                            print (s)\n",
    "                            if s>longstreak:\n",
    "                                longstreak=s\n",
    "                        else:\n",
    "                            s=0\n",
    "\n",
    "                    if (fields[6])==team:\n",
    "                        if fields [10] > fields [9]:\n",
    "                            s+=1\n",
    "                            print (s)\n",
    "                            if s>longstreak:\n",
    "                                longstreak=s\n",
    "                        else:\n",
    "                            s=0\n",
    "                else:\n",
    "                    pass"
   ]
  },
  {
   "cell_type": "code",
   "execution_count": 56,
   "metadata": {},
   "outputs": [
    {
     "name": "stdout",
     "output_type": "stream",
     "text": [
      "[]\n",
      "[]\n",
      "<_io.TextIOWrapper name='C:/TMP/gl2018/gl2018.txt' mode='r' encoding='cp1252'>\n"
     ]
    }
   ],
   "source": [
    "cubstreak ('C:/TMP/gl2018/gl2018.txt')"
   ]
  },
  {
   "cell_type": "code",
   "execution_count": 45,
   "metadata": {},
   "outputs": [],
   "source": [
    "def cubstreak (file):\n",
    "    s=0\n",
    "    tstreak=0\n",
    "    #print ('gobbler')\n",
    "    with open (file) as k:\n",
    "        games=k.readlines()\n",
    "        print (games)\n",
    "        for line in games:\n",
    "           # print ('loop')\n",
    "            fields=line.split(\",\")\n",
    "            a=fields[9]\n",
    "            h=fields[10]\n",
    "            if 'CHN' in line:\n",
    "     #           print (\"in\")\n",
    "                if fields[3].strip('\"')=='CHN':\n",
    "                    if a > h :\n",
    "                        s+=1\n",
    "                        if s>tstreak:\n",
    "                            tstreak=s\n",
    "                    else:\n",
    "                        s=0\n",
    "\n",
    "                if fields[6].strip('\"')=='CHN':\n",
    "                    if h > a:\n",
    "                        s+=1\n",
    "                        if s>tstreak:\n",
    "                            tstreak=s\n",
    "                    else:\n",
    "                        s=0\n",
    "            else:\n",
    "                pass\n",
    "\n",
    "    return tstreak\n"
   ]
  },
  {
   "cell_type": "code",
   "execution_count": 46,
   "metadata": {},
   "outputs": [
    {
     "name": "stderr",
     "output_type": "stream",
     "text": [
      "IOPub data rate exceeded.\n",
      "The notebook server will temporarily stop sending output\n",
      "to the client in order to avoid crashing it.\n",
      "To change this limit, set the config variable\n",
      "`--NotebookApp.iopub_data_rate_limit`.\n",
      "\n",
      "Current values:\n",
      "NotebookApp.iopub_data_rate_limit=1000000.0 (bytes/sec)\n",
      "NotebookApp.rate_limit_window=3.0 (secs)\n",
      "\n"
     ]
    },
    {
     "data": {
      "text/plain": [
       "5"
      ]
     },
     "execution_count": 46,
     "metadata": {},
     "output_type": "execute_result"
    }
   ],
   "source": [
    "cubstreak ('C:/TMP/gl2018/gl2018.txt')"
   ]
  },
  {
   "cell_type": "code",
   "execution_count": null,
   "metadata": {},
   "outputs": [],
   "source": []
  }
 ],
 "metadata": {
  "kernelspec": {
   "display_name": "Python 3",
   "language": "python",
   "name": "python3"
  },
  "language_info": {
   "codemirror_mode": {
    "name": "ipython",
    "version": 3
   },
   "file_extension": ".py",
   "mimetype": "text/x-python",
   "name": "python",
   "nbconvert_exporter": "python",
   "pygments_lexer": "ipython3",
   "version": "3.7.0"
  }
 },
 "nbformat": 4,
 "nbformat_minor": 2
}
