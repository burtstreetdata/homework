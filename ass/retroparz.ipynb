{
 "cells": [
  {
   "cell_type": "code",
   "execution_count": 27,
   "metadata": {},
   "outputs": [
    {
     "name": "stdout",
     "output_type": "stream",
     "text": [
      "376\n",
      "296\n",
      "385\n",
      "349\n"
     ]
    }
   ],
   "source": [
    "seasondata=open('c:/tmp/gl2018/gl2018.txt')\n",
    "seasonlines=seasondata.readlines()\n",
    "season_cub_games=1\n",
    "season_cub_runs=0\n",
    "season_enemy_runs_away=0\n",
    "season_enemy_runs_home=0\n",
    "cubs_wins=0\n",
    "cubs_losses=0\n",
    "cubscoreaway=0\n",
    "cubscorehome=0\n",
    "for line in seasonlines:\n",
    "    fields = line.split(',')\n",
    "    if 'CHN' in line and 'CHN' in str(fields[3]):\n",
    "        cubscoreaway= int(fields[9])+cubscoreaway\n",
    "        season_enemy_runs_away+=int(fields [10])\n",
    "    if 'CHN' in line and 'CHN' in str(fields[6]):\n",
    "        cubscorehome= int (fields [10])+cubscorehome\n",
    "        season_enemy_runs_home+=int(fields[9])\n",
    "        season_cub_games+=1\n",
    "\n",
    "print (cubscoreaway)\n",
    "print (season_enemy_runs_away)\n",
    "print (cubscorehome)\n",
    "print (season_enemy_runs_home)"
   ]
  },
  {
   "cell_type": "code",
   "execution_count": 2,
   "metadata": {},
   "outputs": [],
   "source": [
    "seasondata=open('c:/tmp/gl2018/gl2018.txt')"
   ]
  },
  {
   "cell_type": "code",
   "execution_count": 25,
   "metadata": {},
   "outputs": [
    {
     "ename": "SyntaxError",
     "evalue": "invalid syntax (<ipython-input-25-595136351eb9>, line 1)",
     "output_type": "error",
     "traceback": [
      "\u001b[1;36m  File \u001b[1;32m\"<ipython-input-25-595136351eb9>\"\u001b[1;36m, line \u001b[1;32m1\u001b[0m\n\u001b[1;33m    and 'CHN' in str(fields[3]\u001b[0m\n\u001b[1;37m      ^\u001b[0m\n\u001b[1;31mSyntaxError\u001b[0m\u001b[1;31m:\u001b[0m invalid syntax\n"
     ]
    }
   ],
   "source": [
    " and 'CHN' in str(fields[3]"
   ]
  },
  {
   "cell_type": "code",
   "execution_count": null,
   "metadata": {},
   "outputs": [],
   "source": []
  }
 ],
 "metadata": {
  "kernelspec": {
   "display_name": "Python 3",
   "language": "python",
   "name": "python3"
  },
  "language_info": {
   "codemirror_mode": {
    "name": "ipython",
    "version": 3
   },
   "file_extension": ".py",
   "mimetype": "text/x-python",
   "name": "python",
   "nbconvert_exporter": "python",
   "pygments_lexer": "ipython3",
   "version": "3.7.0"
  }
 },
 "nbformat": 4,
 "nbformat_minor": 2
}
