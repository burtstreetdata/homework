{
 "cells": [
  {
   "cell_type": "code",
   "execution_count": 8,
   "metadata": {},
   "outputs": [
    {
     "ename": "SyntaxError",
     "evalue": "invalid syntax (<ipython-input-8-036412cb9007>, line 7)",
     "output_type": "error",
     "traceback": [
      "\u001b[1;36m  File \u001b[1;32m\"<ipython-input-8-036412cb9007>\"\u001b[1;36m, line \u001b[1;32m7\u001b[0m\n\u001b[1;33m    if (fields[0])=\"owl\":\u001b[0m\n\u001b[1;37m                  ^\u001b[0m\n\u001b[1;31mSyntaxError\u001b[0m\u001b[1;31m:\u001b[0m invalid syntax\n"
     ]
    }
   ],
   "source": [
    "def longest(date):\n",
    "    wstreak=0\n",
    "    with open ('C:/TMP/gl2018/gl2018.txt') as s:\n",
    "        r=s.readlines()\n",
    "        for line in r:\n",
    "            fields=r.split(\",\")\n",
    "            if (fields[0])=date:\n",
    "                \n",
    "                   \n",
    "            \n",
    "            \n",
    "            "
   ]
  },
  {
   "cell_type": "code",
   "execution_count": 34,
   "metadata": {},
   "outputs": [],
   "source": [
    "def cubstreak (file):\n",
    "    s=0\n",
    "    \n",
    "    with open (file) as k:\n",
    "        games=k.readlines()\n",
    "        for line in k:\n",
    "            fields=line.split(\",\")\n",
    "            if 'CHN' in line:\n",
    "                if fields[3]=='CHN':\n",
    "                    if fields[3] > fields [4]:\n",
    "                        s+=1\n",
    "                        print (s)\n",
    "                    else:\n",
    "                        s=0\n",
    "\n",
    "                if (fields[4])=='CHN':\n",
    "                    if fields (4) > fields (3):\n",
    "                        s+=1\n",
    "                        print (s)\n",
    "                    else:\n",
    "                        s=0\n",
    "            else:\n",
    "                pass\n",
    "    return s"
   ]
  },
  {
   "cell_type": "code",
   "execution_count": 35,
   "metadata": {},
   "outputs": [
    {
     "data": {
      "text/plain": [
       "0"
      ]
     },
     "execution_count": 35,
     "metadata": {},
     "output_type": "execute_result"
    }
   ],
   "source": [
    "cubstreak('C:/TMP/gl2018/gl2018.txt')"
   ]
  },
  {
   "cell_type": "code",
   "execution_count": 36,
   "metadata": {},
   "outputs": [],
   "source": [
    "def cubstreak (file):\n",
    "    s=0\n",
    "    u=list()\n",
    "    with open (file) as k:\n",
    "        for line in k:\n",
    "            fields=line.split(\",\")\n",
    "            u.append(fields[3])\n",
    "            u.append(fields[6])\n",
    "        games=k.readlines()\n",
    "        for team in u:\n",
    "            for line in k:\n",
    "                print (fields[6])\n",
    "                fields=line.split(\",\")\n",
    "                if team in line:\n",
    "                    if fields[3]==team:\n",
    "                        if fields[3] > fields [6]:\n",
    "                            s+=1\n",
    "                            print (s)\n",
    "                        else:\n",
    "                            s=0\n",
    "\n",
    "                    if (fields[6])==team:\n",
    "                        if fields (6) > fields (3):\n",
    "                            s+=1\n",
    "                            print (s)\n",
    "                        else:\n",
    "                            s=0\n",
    "                else:\n",
    "                    pass"
   ]
  },
  {
   "cell_type": "code",
   "execution_count": null,
   "metadata": {},
   "outputs": [],
   "source": []
  }
 ],
 "metadata": {
  "kernelspec": {
   "display_name": "Python 3",
   "language": "python",
   "name": "python3"
  }
 },
 "nbformat": 4,
 "nbformat_minor": 2
}
